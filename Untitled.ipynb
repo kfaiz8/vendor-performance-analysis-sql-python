{
 "cells": [
  {
   "cell_type": "code",
   "execution_count": 1,
   "id": "b57091b6-f0a4-4ae5-8e40-7490b54552e2",
   "metadata": {},
   "outputs": [],
   "source": [
    "import pandas as pd\n",
    "import os\n",
    "import sqlalchemy\n",
    "from sqlalchemy import create_engine\n",
    "import logging\n",
    "import time\n",
    "\n",
    "engine = create_engine('sqlite:///inventory.db')\n",
    "\n",
    "logging.basicConfig(\n",
    "    filename=\"logs/ingestion_db.log\",\n",
    "    level=logging.DEBUG,\n",
    "    format=\"%(asctime)s-%(levelname)s-%(message)s\",\n",
    "    filemode=\"a\"\n",
    ")\n",
    "\n",
    "def ingest_db_in_chunks(file_path, table_name, engine, chunksize=100000):\n",
    "    '''Ingest large CSV in chunks'''\n",
    "    for i, chunk in enumerate(pd.read_csv(file_path, chunksize=chunksize)):\n",
    "        if_exists = 'replace' if i == 0 else 'append'\n",
    "        chunk.to_sql(table_name, con=engine, if_exists=if_exists, index=False)\n",
    "        logging.info(f'Inserted chunk {i+1} of {file_path}')\n",
    "\n",
    "def ingest_db(df, table_name, engine):\n",
    "    '''Ingest small DataFrame into database'''\n",
    "    df.to_sql(table_name, con=engine, if_exists='replace', index=False)\n",
    "\n",
    "def load_raw_data():\n",
    "    '''Load all CSV files in data/ into SQLite database'''\n",
    "    start = time.time()\n",
    "    for file in os.listdir('data'):\n",
    "        file_path = os.path.join('data', file)\n",
    "        table_name = file[:-4]\n",
    "\n",
    "        try:\n",
    "            # If it's a very large file like sales.csv, load in chunks\n",
    "            if file.lower() == 'sales.csv':\n",
    "                logging.info(f'Ingesting {file} in db using chunking...')\n",
    "                ingest_db_in_chunks(file_path, table_name, engine)\n",
    "            else:\n",
    "                logging.info(f'Ingesting {file} in db...')\n",
    "                df = pd.read_csv(file_path)\n",
    "                ingest_db(df, table_name, engine)\n",
    "\n",
    "        except Exception as e:\n",
    "            logging.error(f\"Failed to ingest {file}: {e}\")\n",
    "\n",
    "    end = time.time()\n",
    "    total_time = (end - start) / 60\n",
    "    logging.info('-----------Ingestion Complete-----------')\n",
    "    logging.info(f'Total Time Taken: {total_time:.2f} minutes')\n",
    "\n",
    "if __name__ == '__main__':\n",
    "    load_raw_data()\n"
   ]
  },
  {
   "cell_type": "code",
   "execution_count": null,
   "id": "5b639963-f1bd-4964-b984-f030e2ea2490",
   "metadata": {},
   "outputs": [],
   "source": []
  }
 ],
 "metadata": {
  "kernelspec": {
   "display_name": "Python [conda env:pymol]",
   "language": "python",
   "name": "conda-env-pymol-py"
  },
  "language_info": {
   "codemirror_mode": {
    "name": "ipython",
    "version": 3
   },
   "file_extension": ".py",
   "mimetype": "text/x-python",
   "name": "python",
   "nbconvert_exporter": "python",
   "pygments_lexer": "ipython3",
   "version": "3.10.15"
  }
 },
 "nbformat": 4,
 "nbformat_minor": 5
}
